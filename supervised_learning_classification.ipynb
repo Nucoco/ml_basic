{
 "cells": [
  {
   "cell_type": "code",
   "execution_count": 1,
   "metadata": {},
   "outputs": [],
   "source": [
    "import numpy as np\r\n",
    "import pandas as pd\r\n",
    "import matplotlib.pyplot as plt\r\n",
    "import seaborn as sns\r\n",
    "from sklearn.datasets import load_iris"
   ]
  },
  {
   "cell_type": "code",
   "execution_count": 3,
   "metadata": {},
   "outputs": [
    {
     "data": {
      "text/plain": [
       "['sepal length (cm)',\n",
       " 'sepal width (cm)',\n",
       " 'petal length (cm)',\n",
       " 'petal width (cm)']"
      ]
     },
     "execution_count": 3,
     "metadata": {},
     "output_type": "execute_result"
    }
   ],
   "source": [
    "dataset = load_iris()\r\n",
    "dataset.feature_names"
   ]
  },
  {
   "cell_type": "code",
   "execution_count": 5,
   "metadata": {},
   "outputs": [
    {
     "data": {
      "text/plain": [
       "((150, 4), array([0, 1, 2]))"
      ]
     },
     "execution_count": 5,
     "metadata": {},
     "output_type": "execute_result"
    }
   ],
   "source": [
    "x, t = dataset.data, dataset.target\r\n",
    "x.shape, np.unique(t)"
   ]
  },
  {
   "cell_type": "code",
   "execution_count": 6,
   "metadata": {},
   "outputs": [],
   "source": [
    "from sklearn.model_selection import train_test_split\r\n",
    "x_train, x_test, t_train, t_test = train_test_split(x, t, test_size=0.3, random_state=0)"
   ]
  },
  {
   "cell_type": "code",
   "execution_count": 11,
   "metadata": {},
   "outputs": [
    {
     "name": "stdout",
     "output_type": "stream",
     "text": [
      "train score: 1.0\n",
      "test score: 0.9777777777777777\n"
     ]
    }
   ],
   "source": [
    "from sklearn.tree import DecisionTreeClassifier\r\n",
    "# algorithm\r\n",
    "model = DecisionTreeClassifier(random_state=0)\r\n",
    "# train\r\n",
    "model.fit(x_train, t_train)\r\n",
    "# validation( accuracy)\r\n",
    "#  - in Classification, 'Cross Entropy' is used as evaluation function\r\n",
    "print(f'train score: {model.score(x_train, t_train)}')\r\n",
    "print(f'test score: {model.score(x_test, t_test)}')"
   ]
  },
  {
   "cell_type": "code",
   "execution_count": 12,
   "metadata": {},
   "outputs": [
    {
     "data": {
      "text/plain": [
       "array([2, 1, 0, 2, 0, 2, 0, 1, 1, 1, 2, 1, 1, 1, 1, 0, 1, 1, 0, 0, 2, 1,\n",
       "       0, 0, 2, 0, 0, 1, 1, 0, 2, 1, 0, 2, 2, 1, 0, 2, 1, 1, 2, 0, 2, 0,\n",
       "       0])"
      ]
     },
     "execution_count": 12,
     "metadata": {},
     "output_type": "execute_result"
    }
   ],
   "source": [
    "# inference\r\n",
    "model.predict(x_test)"
   ]
  },
  {
   "cell_type": "code",
   "execution_count": 13,
   "metadata": {},
   "outputs": [
    {
     "name": "stdout",
     "output_type": "stream",
     "text": [
      "Collecting graphviz\n",
      "  Downloading graphviz-0.16-py2.py3-none-any.whl (19 kB)\n",
      "Installing collected packages: graphviz\n",
      "Successfully installed graphviz-0.16\n"
     ]
    }
   ],
   "source": [
    "!pip install graphviz"
   ]
  },
  {
   "cell_type": "code",
   "execution_count": 15,
   "metadata": {},
   "outputs": [],
   "source": [
    "# visualize tree structure\r\n",
    "import graphviz\r\n",
    "from sklearn.tree import export_graphviz\r\n",
    "\r\n",
    "dot_data = export_graphviz(model)\r\n",
    "graph_tree = graphviz.Source(dot_data)\r\n",
    "# show the graph in COLAB...\r\n",
    "# graph_tree"
   ]
  },
  {
   "cell_type": "code",
   "execution_count": 16,
   "metadata": {},
   "outputs": [
    {
     "data": {
      "text/plain": [
       "array([0.        , 0.02150464, 0.39766951, 0.58082584])"
      ]
     },
     "execution_count": 16,
     "metadata": {},
     "output_type": "execute_result"
    }
   ],
   "source": [
    "# Degree of influence\r\n",
    "feature_importance = model.feature_importances_\r\n",
    "feature_importance"
   ]
  },
  {
   "cell_type": "code",
   "execution_count": 17,
   "metadata": {},
   "outputs": [
    {
     "data": {
      "text/plain": [
       "<BarContainer object of 4 artists>"
      ]
     },
     "execution_count": 17,
     "metadata": {},
     "output_type": "execute_result"
    },
    {
     "data": {
      "image/png": "[encoded data removed]",
      "text/plain": [
       "<Figure size 432x288 with 1 Axes>"
      ]
     },
     "metadata": {
      "needs_background": "light"
     },
     "output_type": "display_data"
    }
   ],
   "source": [
    "plt.barh(y=dataset.feature_names, width=feature_importance)"
   ]
  },
  {
   "cell_type": "code",
   "execution_count": 20,
   "metadata": {},
   "outputs": [
    {
     "name": "stdout",
     "output_type": "stream",
     "text": [
      "train score: 0.9714285714285714\n",
      "test score: 0.9777777777777777\n"
     ]
    }
   ],
   "source": [
    "\"\"\" SVM(Support Vector Machine) \"\"\"\r\n",
    "# SVM uses 'distance', so data standardization is needed.\r\n",
    "from sklearn.svm import SVC\r\n",
    "\r\n",
    "model = SVC()\r\n",
    "model.fit(x_train, t_train)\r\n",
    "\r\n",
    "\r\n",
    "print(f'train score: {model.score(x_train, t_train)}')\r\n",
    "print(f'test score: {model.score(x_test, t_test)}')"
   ]
  },
  {
   "cell_type": "code",
   "execution_count": 23,
   "metadata": {},
   "outputs": [
    {
     "data": {
      "text/plain": [
       "(3, 2, 0, 1)"
      ]
     },
     "execution_count": 23,
     "metadata": {},
     "output_type": "execute_result"
    }
   ],
   "source": [
    "# standardization( into mean: 0, std: 1)\r\n",
    "from sklearn.preprocessing import StandardScaler\r\n",
    "\r\n",
    "scaler = StandardScaler()\r\n",
    "scaler.fit(x_train)\r\n",
    "\r\n",
    "x_train_stsc = scaler.transform(x_train)\r\n",
    "x_test_stsc = scaler.transform(x_test)\r\n",
    "\r\n",
    "round(x_train.mean()), round(x_train.std()), round(x_train_stsc.mean()), round(x_train_stsc.std())"
   ]
  },
  {
   "cell_type": "code",
   "execution_count": 26,
   "metadata": {},
   "outputs": [
    {
     "name": "stdout",
     "output_type": "stream",
     "text": [
      "train score: 0.9809523809523809\n",
      "test score: 0.9777777777777777\n"
     ]
    }
   ],
   "source": [
    "# C: cost(penalty), gamma: complexity of a model\r\n",
    "model_stsc = SVC(C=1, gamma=1.0)\r\n",
    "model_stsc.fit(x_train_stsc, t_train)\r\n",
    "\r\n",
    "\r\n",
    "print(f'train score: {model_stsc.score(x_train_stsc, t_train)}')\r\n",
    "print(f'test score: {model_stsc.score(x_test_stsc, t_test)}')"
   ]
  },
  {
   "cell_type": "code",
   "execution_count": null,
   "metadata": {},
   "outputs": [],
   "source": []
  }
 ],
 "metadata": {
  "language_info": {
   "name": "python",
   "nbconvert_exporter": "python"
  },
  "orig_nbformat": 4
 },
 "nbformat": 4,
 "nbformat_minor": 2
}